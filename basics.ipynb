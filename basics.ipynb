{
 "cells": [
  {
   "cell_type": "code",
   "execution_count": 1,
   "metadata": {},
   "outputs": [],
   "source": [
    "import datetime"
   ]
  },
  {
   "cell_type": "markdown",
   "metadata": {},
   "source": [
    "Getting Current Date and Time"
   ]
  },
  {
   "cell_type": "code",
   "execution_count": 2,
   "metadata": {},
   "outputs": [
    {
     "name": "stdout",
     "output_type": "stream",
     "text": [
      "Current Date and Time: 2024-05-12 19:26:20.528609\n",
      "Current Date: 2024-05-12\n",
      "Current Time: 19:26:20.528959\n"
     ]
    }
   ],
   "source": [
    "# Current date and time\n",
    "current_datetime = datetime.datetime.now()\n",
    "print(\"Current Date and Time:\", current_datetime)\n",
    "\n",
    "# Current date\n",
    "current_date = datetime.date.today()\n",
    "print(\"Current Date:\", current_date)\n",
    "\n",
    "# Current time\n",
    "current_time = datetime.datetime.now().time()\n",
    "print(\"Current Time:\", current_time)\n"
   ]
  },
  {
   "cell_type": "markdown",
   "metadata": {},
   "source": [
    "Creating a Specific Date and Time"
   ]
  },
  {
   "cell_type": "code",
   "execution_count": 3,
   "metadata": {},
   "outputs": [
    {
     "name": "stdout",
     "output_type": "stream",
     "text": [
      "Specific Date: 2024-05-12\n",
      "Specific Time: 12:30:00\n",
      "Specific Date and Time: 2024-05-12 12:30:00\n"
     ]
    }
   ],
   "source": [
    "# Creating a specific date\n",
    "specific_date = datetime.date(2024, 5, 12)\n",
    "print(\"Specific Date:\", specific_date)\n",
    "\n",
    "# Creating a specific time\n",
    "specific_time = datetime.time(12, 30, 0)\n",
    "print(\"Specific Time:\", specific_time)\n",
    "\n",
    "# Creating a specific date and time\n",
    "specific_datetime = datetime.datetime(2024, 5, 12, 12, 30, 0)\n",
    "print(\"Specific Date and Time:\", specific_datetime)\n"
   ]
  },
  {
   "cell_type": "markdown",
   "metadata": {},
   "source": [
    "Formatting Dates and Times"
   ]
  },
  {
   "cell_type": "code",
   "execution_count": 4,
   "metadata": {},
   "outputs": [
    {
     "name": "stdout",
     "output_type": "stream",
     "text": [
      "Formatted Date: 2024-05-12\n",
      "Formatted Time: 19:26:20\n"
     ]
    }
   ],
   "source": [
    "# Formatting dates\n",
    "formatted_date = datetime.date.today().strftime(\"%Y-%m-%d\")\n",
    "print(\"Formatted Date:\", formatted_date)\n",
    "\n",
    "# Formatting times\n",
    "formatted_time = datetime.datetime.now().strftime(\"%H:%M:%S\")\n",
    "print(\"Formatted Time:\", formatted_time)\n"
   ]
  }
 ],
 "metadata": {
  "kernelspec": {
   "display_name": ".venv",
   "language": "python",
   "name": "python3"
  },
  "language_info": {
   "codemirror_mode": {
    "name": "ipython",
    "version": 3
   },
   "file_extension": ".py",
   "mimetype": "text/x-python",
   "name": "python",
   "nbconvert_exporter": "python",
   "pygments_lexer": "ipython3",
   "version": "3.12.2"
  }
 },
 "nbformat": 4,
 "nbformat_minor": 2
}
