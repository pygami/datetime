{
 "cells": [
  {
   "cell_type": "code",
   "execution_count": 1,
   "metadata": {},
   "outputs": [],
   "source": [
    "import datetime"
   ]
  },
  {
   "cell_type": "markdown",
   "metadata": {},
   "source": [
    "Time Differences"
   ]
  },
  {
   "cell_type": "code",
   "execution_count": 2,
   "metadata": {},
   "outputs": [
    {
     "name": "stdout",
     "output_type": "stream",
     "text": [
      "Time Difference: 2 days\n",
      "Time Difference: 2:30:00\n"
     ]
    }
   ],
   "source": [
    "# Calculating time difference between two dates\n",
    "date1 = datetime.date(2024, 5, 10)\n",
    "date2 = datetime.date(2024, 5, 12)\n",
    "time_difference = date2 - date1\n",
    "print(\"Time Difference:\", time_difference.days, \"days\")\n",
    "\n",
    "# Calculating time difference between two times\n",
    "time1 = datetime.datetime(2024, 5, 12, 10, 0, 0)\n",
    "time2 = datetime.datetime(2024, 5, 12, 12, 30, 0)\n",
    "time_difference = time2 - time1\n",
    "print(\"Time Difference:\", time_difference)\n"
   ]
  },
  {
   "cell_type": "markdown",
   "metadata": {},
   "source": [
    "Converting Timezones"
   ]
  },
  {
   "cell_type": "code",
   "execution_count": 3,
   "metadata": {},
   "outputs": [
    {
     "name": "stdout",
     "output_type": "stream",
     "text": [
      "Eastern Time: 2024-05-12 13:27:27.546264-04:00\n"
     ]
    },
    {
     "name": "stderr",
     "output_type": "stream",
     "text": [
      "/var/folders/7h/7r7g8fn16d535nk1c5wprjfm0000gn/T/ipykernel_28174/2945046734.py:5: DeprecationWarning: datetime.datetime.utcnow() is deprecated and scheduled for removal in a future version. Use timezone-aware objects to represent datetimes in UTC: datetime.datetime.now(datetime.UTC).\n",
      "  utc_time = datetime.datetime.utcnow()\n"
     ]
    }
   ],
   "source": [
    "from pytz import timezone\n",
    "\n",
    "# Converting timezone\n",
    "utc_time = datetime.datetime.utcnow()\n",
    "eastern = timezone('US/Eastern')\n",
    "eastern_time = utc_time.astimezone(eastern)\n",
    "print(\"Eastern Time:\", eastern_time)\n"
   ]
  },
  {
   "cell_type": "markdown",
   "metadata": {},
   "source": [
    "Working with Timedelta"
   ]
  },
  {
   "cell_type": "code",
   "execution_count": 4,
   "metadata": {},
   "outputs": [
    {
     "name": "stdout",
     "output_type": "stream",
     "text": [
      "Timedelta: 5 days, 3:00:00\n",
      "New Date: 2024-05-17 22:27:27.573547\n"
     ]
    }
   ],
   "source": [
    "# Creating timedelta objects\n",
    "delta = datetime.timedelta(days=5, hours=3)\n",
    "print(\"Timedelta:\", delta)\n",
    "\n",
    "# Adding timedelta to datetime\n",
    "new_date = datetime.datetime.now() + delta\n",
    "print(\"New Date:\", new_date)\n"
   ]
  }
 ],
 "metadata": {
  "kernelspec": {
   "display_name": ".venv",
   "language": "python",
   "name": "python3"
  },
  "language_info": {
   "codemirror_mode": {
    "name": "ipython",
    "version": 3
   },
   "file_extension": ".py",
   "mimetype": "text/x-python",
   "name": "python",
   "nbconvert_exporter": "python",
   "pygments_lexer": "ipython3",
   "version": "3.12.2"
  }
 },
 "nbformat": 4,
 "nbformat_minor": 2
}
